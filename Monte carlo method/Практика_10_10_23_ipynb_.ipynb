{
  "nbformat": 4,
  "nbformat_minor": 0,
  "metadata": {
    "colab": {
      "provenance": []
    },
    "kernelspec": {
      "name": "python3",
      "display_name": "Python 3"
    },
    "language_info": {
      "name": "python"
    }
  },
  "cells": [
    {
      "cell_type": "markdown",
      "source": [
        "# Подсчёт pi с использованием метода Монте-Карло"
      ],
      "metadata": {
        "id": "64JPlHixec69"
      }
    },
    {
      "cell_type": "markdown",
      "source": [
        "## Формулы\n",
        "- square area: $s = (2 r)^2$\n",
        "- circle area: $c = \\pi r^2$\n",
        "- $c/s = (\\pi r^2) / (4 r^2) = \\pi / 4$\n",
        "- $\\pi = 4 * c/s$\n"
      ],
      "metadata": {
        "id": "GT0OOM2gd6Fc"
      }
    },
    {
      "cell_type": "markdown",
      "source": [
        "## Изображение для визуализации концепции\n",
        "![Darts](https://raw.githubusercontent.com/coderefinery/jupyter/main/example/darts.svg)"
      ],
      "metadata": {
        "id": "Y-2qgQMfeBOO"
      }
    },
    {
      "cell_type": "code",
      "source": [
        "# Импорт необходимых модулей\n",
        "import random\n",
        "import matplotlib.pyplot as plt\n",
        "\n",
        "# Инициализация количества \"бросков\"\n",
        "num_points = 1000\n",
        "\n",
        "# Здесь мы \"бросаем дротики\" и подсчитываем количество попаданий\n",
        "points = []\n",
        "hits = 0\n",
        "for _ in range(num_points):\n",
        "  x, y = random.random(), random.random()\n",
        "if x*x + y*y < 1.0:\n",
        "  hits += 1\n",
        "  points.append((x, y, \"red\"))\n",
        "else:\n",
        "  points.append((x, y, \"blue\"))\n",
        "\n",
        "# Распакуем точки в 3 списка\n",
        "x, y, colors = zip(*points)\n",
        "# Определяем размеры фигуры\n",
        "fig, ax = plt.subplots()\n",
        "fig.set_size_inches(6.0, 6.0)\n",
        "# Рисуем результат\n",
        "ax.scatter(x, y, c=colors)\n",
        "\n",
        "# Считаем оценку\n",
        "fraction = hits / num_points\n",
        "4 * fraction"
      ],
      "metadata": {
        "colab": {
          "base_uri": "https://localhost:8080/",
          "height": 557
        },
        "id": "ssfhKYL9eM0m",
        "outputId": "b5ea5c2f-5391-41aa-d171-62ba7014101b"
      },
      "execution_count": 7,
      "outputs": [
        {
          "output_type": "stream",
          "name": "stdout",
          "text": [
            "\u001b[31mERROR: Could not open requirements file: [Errno 2] No such file or directory: 'requirements.txt'\u001b[0m\u001b[31m\n",
            "\u001b[0m"
          ]
        },
        {
          "output_type": "execute_result",
          "data": {
            "text/plain": [
              "0.004"
            ]
          },
          "metadata": {},
          "execution_count": 7
        },
        {
          "output_type": "display_data",
          "data": {
            "text/plain": [
              "<Figure size 600x600 with 1 Axes>"
            ],
            "image/png": "[encoded data removed]"
          },
          "metadata": {}
        }
      ]
    }
  ]
}