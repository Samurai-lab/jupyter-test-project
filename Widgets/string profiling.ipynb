{
  "nbformat": 4,
  "nbformat_minor": 0,
  "metadata": {
    "colab": {
      "provenance": []
    },
    "kernelspec": {
      "name": "python3",
      "display_name": "Python 3"
    },
    "language_info": {
      "name": "python"
    }
  },
  "cells": [
    {
      "cell_type": "code",
      "source": [
        "import numpy as np\n",
        "import matplotlib.pyplot as plt\n",
        "import random"
      ],
      "metadata": {
        "id": "ssfhKYL9eM0m"
      },
      "execution_count": 15,
      "outputs": []
    },
    {
      "cell_type": "code",
      "source": [
        "def step():\n",
        "    #import random - я думаю, что этот импорт замедляет программу\n",
        "    return 1. if random.random() > .5 else -1."
      ],
      "metadata": {
        "id": "AAM298Nrl_bq"
      },
      "execution_count": 16,
      "outputs": []
    },
    {
      "cell_type": "code",
      "source": [
        "def walk(n):\n",
        "    x = np.zeros(n)\n",
        "    dx = 1. / n\n",
        "    for i in range(n - 1):\n",
        "        x_new = x[i] + dx * step()\n",
        "        if x_new > 5e-3:\n",
        "            x[i + 1] = 0.\n",
        "        else:\n",
        "            x[i + 1] = x_new\n",
        "    return x"
      ],
      "metadata": {
        "id": "QnMi2paqmC5f"
      },
      "execution_count": 17,
      "outputs": []
    },
    {
      "cell_type": "code",
      "source": [
        "n = 100000\n",
        "x = walk(n)"
      ],
      "metadata": {
        "id": "dJvOVm1bmI-y"
      },
      "execution_count": 18,
      "outputs": []
    },
    {
      "cell_type": "code",
      "source": [
        "t1 = %timeit -o walk(n)"
      ],
      "metadata": {
        "colab": {
          "base_uri": "https://localhost:8080/"
        },
        "id": "lF_XQXKPmOLI",
        "outputId": "808104b3-8769-4345-c7df-89f27b9b151a"
      },
      "execution_count": 19,
      "outputs": [
        {
          "output_type": "stream",
          "name": "stdout",
          "text": [
            "67.2 ms ± 16.5 ms per loop (mean ± std. dev. of 7 runs, 10 loops each)\n"
          ]
        }
      ]
    },
    {
      "cell_type": "code",
      "source": [
        "t1.best"
      ],
      "metadata": {
        "colab": {
          "base_uri": "https://localhost:8080/"
        },
        "id": "URchncH_mRKG",
        "outputId": "45dd45ac-80ce-45e3-ea30-79de7a446aef"
      },
      "execution_count": 20,
      "outputs": [
        {
          "output_type": "execute_result",
          "data": {
            "text/plain": [
              "0.058433797799989404"
            ]
          },
          "metadata": {},
          "execution_count": 20
        }
      ]
    },
    {
      "cell_type": "code",
      "source": [
        "%%prun\n",
        "walk(n)"
      ],
      "metadata": {
        "colab": {
          "base_uri": "https://localhost:8080/"
        },
        "id": "I6rdh7sFmUBI",
        "outputId": "949e3517-1fa5-4eab-dc85-820b82fcb1d2"
      },
      "execution_count": 21,
      "outputs": [
        {
          "output_type": "stream",
          "name": "stdout",
          "text": [
            " "
          ]
        }
      ]
    },
    {
      "cell_type": "code",
      "source": [
        "!pip install line_profiler\n",
        "%load_ext line_profiler\n",
        "%lprun?\n",
        "%lprun -f walk walk(10000)\n",
        "%lprun -f step walk(10000)"
      ],
      "metadata": {
        "colab": {
          "base_uri": "https://localhost:8080/"
        },
        "id": "uvy1f3rRnJ6D",
        "outputId": "a50d9403-70ab-4e00-a2e5-5188e5a0f724"
      },
      "execution_count": 24,
      "outputs": [
        {
          "output_type": "stream",
          "name": "stdout",
          "text": [
            "Requirement already satisfied: line_profiler in /usr/local/lib/python3.10/dist-packages (4.1.1)\n",
            "The line_profiler extension is already loaded. To reload it, use:\n",
            "  %reload_ext line_profiler\n"
          ]
        }
      ]
    },
    {
      "cell_type": "markdown",
      "source": [
        "--| Я предпологаю, что можно решить проблему загрузкой библиотеки в проект изменением способа использования модуля. Например, вместо импорта всего модуля можно импортировать только конкретные функции, которые нужны. Это может ускорить вызовы модуля random"
      ],
      "metadata": {
        "id": "-UriJ3wInlFa"
      }
    }
  ]
}